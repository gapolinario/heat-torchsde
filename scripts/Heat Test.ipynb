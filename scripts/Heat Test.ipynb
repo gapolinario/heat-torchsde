{
 "cells": [
  {
   "cell_type": "code",
   "execution_count": 14,
   "id": "4ff55510",
   "metadata": {},
   "outputs": [],
   "source": [
    "import torch\n",
    "from torch import nn,sqrt,var,fft\n",
    "#from math import sqrt\n",
    "\n",
    "import os\n",
    "#import sys\n",
    "#module_path = os.path.abspath(os.path.join('..'))\n",
    "#if module_path not in sys.path:\n",
    "#    sys.path.append(module_path)\n",
    "\n",
    "%matplotlib inline\n",
    "import matplotlib.pyplot as plt\n",
    "\n",
    "import torchsde"
   ]
  },
  {
   "cell_type": "code",
   "execution_count": 2,
   "id": "2dbaa24f",
   "metadata": {},
   "outputs": [],
   "source": [
    "#import hsde # local package\n",
    "# FIXME: I created the local package but now can't use it, it has no modules or functions associated"
   ]
  },
  {
   "cell_type": "code",
   "execution_count": 3,
   "id": "21a1dfbf",
   "metadata": {},
   "outputs": [],
   "source": [
    "import sys\n",
    "sys.path.append('../heat')\n",
    "from heat import *\n",
    "# FIXME: the package was created to avoid path append"
   ]
  },
  {
   "cell_type": "code",
   "execution_count": 19,
   "id": "0d2a91a9",
   "metadata": {},
   "outputs": [],
   "source": [
    "batch_size = 32     # ensemble size\n",
    "N = state_size = 256    # number of Fourier modes\n",
    "brownian_size = 256 # number of noise modes\n",
    "t_size = 20         # number of output time steps in simulations\n",
    "\n",
    "nu = 0.001\n",
    "alpha = 0.1"
   ]
  },
  {
   "cell_type": "code",
   "execution_count": 22,
   "id": "64f8a3ed",
   "metadata": {},
   "outputs": [],
   "source": [
    "sde = Heat(nu,alpha,state_size)\n",
    "y0 = torch.zeros((batch_size, state_size))\n",
    "ts = torch.linspace(0, 1, t_size)\n",
    "# Initial state y0, the SDE is solved over the interval [ts[0], ts[-1]].\n",
    "# ys will have shape (t_size, batch_size, state_size)\n",
    "ys = torchsde.sdeint(sde, y0, ts)"
   ]
  },
  {
   "cell_type": "code",
   "execution_count": 23,
   "id": "a9fca93e",
   "metadata": {},
   "outputs": [
    {
     "data": {
      "text/plain": [
       "tensor([0.0000e+00, 3.8466e-06, 4.4393e-05, 7.5252e-04, 1.5294e-02, 3.3979e-01,\n",
       "        7.9558e+00, 1.9279e+02, 4.7848e+03, 1.2093e+05, 3.0981e+06, 8.0215e+07,\n",
       "        2.0958e+09, 5.5134e+10, 1.4592e+12, 3.8823e+13, 1.0372e+15, 2.7821e+16,\n",
       "        7.4875e+17, 2.0205e+19])"
      ]
     },
     "execution_count": 23,
     "metadata": {},
     "output_type": "execute_result"
    }
   ],
   "source": [
    "var(fft.ifft(ys,N,2),(1,2))"
   ]
  },
  {
   "cell_type": "code",
   "execution_count": 24,
   "id": "ce157d7c",
   "metadata": {},
   "outputs": [
    {
     "data": {
      "image/png": "[encoded data removed]",
      "text/plain": [
       "<Figure size 432x288 with 1 Axes>"
      ]
     },
     "metadata": {
      "needs_background": "light"
     },
     "output_type": "display_data"
    }
   ],
   "source": [
    "title  = \"\"\n",
    "ylabel = \"Var(u)\"\n",
    "xlabel = \"t\"\n",
    "\n",
    "plt.figure()\n",
    "plt.plot(ts, heat_analyt_variance(ts,nu), color='k', linestyle='dashed')\n",
    "plt.plot(ts, var(fft.ifft(ys,N,2),(1,2)), color='blue')\n",
    "plt.title(title)\n",
    "plt.xlabel(xlabel)\n",
    "plt.ylabel(ylabel)\n",
    "plt.show()"
   ]
  },
  {
   "cell_type": "code",
   "execution_count": 8,
   "id": "abf4ef25",
   "metadata": {},
   "outputs": [],
   "source": [
    "def heat_analyt_variance(t,nu,L=1.):\n",
    "    return .5*L*L/nu*(sqrt(1.+4.*nu*t/L**2)-1.)\n",
    "\n",
    "def heat_analyt_gradient_variance(t,nu,L=1.):\n",
    "    return 0.5/nu"
   ]
  },
  {
   "cell_type": "code",
   "execution_count": null,
   "id": "51a8686b",
   "metadata": {},
   "outputs": [],
   "source": []
  },
  {
   "cell_type": "code",
   "execution_count": null,
   "id": "90cec9c1",
   "metadata": {},
   "outputs": [],
   "source": []
  }
 ],
 "metadata": {
  "kernelspec": {
   "display_name": "Python 3 (ipykernel)",
   "language": "python",
   "name": "python3"
  },
  "language_info": {
   "codemirror_mode": {
    "name": "ipython",
    "version": 3
   },
   "file_extension": ".py",
   "mimetype": "text/x-python",
   "name": "python",
   "nbconvert_exporter": "python",
   "pygments_lexer": "ipython3",
   "version": "3.8.12"
  }
 },
 "nbformat": 4,
 "nbformat_minor": 5
}
