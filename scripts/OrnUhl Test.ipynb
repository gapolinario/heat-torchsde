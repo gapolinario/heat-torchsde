{
 "cells": [
  {
   "cell_type": "code",
   "execution_count": 1,
   "id": "4ff55510",
   "metadata": {},
   "outputs": [],
   "source": [
    "import torch\n",
    "from torch import nn,sqrt,var,mean,fft,conj,real,imag\n",
    "#from math import sqrt\n",
    "\n",
    "import os\n",
    "#import sys\n",
    "#module_path = os.path.abspath(os.path.join('..'))\n",
    "#if module_path not in sys.path:\n",
    "#    sys.path.append(module_path)\n",
    "\n",
    "%matplotlib inline\n",
    "import matplotlib.pyplot as plt\n",
    "\n",
    "import torchsde"
   ]
  },
  {
   "cell_type": "code",
   "execution_count": 2,
   "id": "2dbaa24f",
   "metadata": {},
   "outputs": [],
   "source": [
    "#import hsde # local package\n",
    "# FIXME: I created the local package but now can't use it, it has no modules or functions associated"
   ]
  },
  {
   "cell_type": "code",
   "execution_count": 3,
   "id": "21a1dfbf",
   "metadata": {},
   "outputs": [],
   "source": [
    "import sys\n",
    "sys.path.append('../heat')\n",
    "from ornuhl import *\n",
    "# FIXME: the package was created to avoid path append"
   ]
  },
  {
   "cell_type": "code",
   "execution_count": 13,
   "id": "0d2a91a9",
   "metadata": {},
   "outputs": [],
   "source": [
    "batch_size = 100        # ensemble size\n",
    "N = state_size = 128    # number of Fourier modes\n",
    "brownian_size = 128     # number of noise modes\n",
    "t_size = 20             # number of output time steps in simulations\n",
    "\n",
    "# characteristic time is 1/nu\n",
    "nu = 10.\n",
    "alpha = 0.1"
   ]
  },
  {
   "cell_type": "code",
   "execution_count": 14,
   "id": "64f8a3ed",
   "metadata": {},
   "outputs": [],
   "source": [
    "sde = OrnUhl(nu,alpha,state_size)\n",
    "y0 = torch.zeros((batch_size, state_size))\n",
    "ts = torch.linspace(0, 10, t_size)\n",
    "# Initial state y0, the SDE is solved over the interval [ts[0], ts[-1]].\n",
    "# ys will have shape (t_size, batch_size, state_size)\n",
    "ys = torchsde.sdeint(sde, y0, ts)"
   ]
  },
  {
   "cell_type": "code",
   "execution_count": 15,
   "id": "a9fca93e",
   "metadata": {},
   "outputs": [],
   "source": [
    "yr = fft.ifft(ys,N,2)\n",
    "yr_var = mean(real(yr*conj(yr)),(1,2))\n",
    "ys_var = mean(ys*ys,(1,2))"
   ]
  },
  {
   "cell_type": "code",
   "execution_count": 16,
   "id": "96e75512",
   "metadata": {},
   "outputs": [],
   "source": [
    "def ornuhl_analyt_variance(t,nu,alpha,L=1.):\n",
    "    return .5*alpha**2/nu"
   ]
  },
  {
   "cell_type": "code",
   "execution_count": 17,
   "id": "ce157d7c",
   "metadata": {},
   "outputs": [
    {
     "data": {
      "image/png": "[encoded data removed]",
      "text/plain": [
       "<Figure size 432x288 with 1 Axes>"
      ]
     },
     "metadata": {
      "needs_background": "light"
     },
     "output_type": "display_data"
    }
   ],
   "source": [
    "title  = \"\"\n",
    "ylabel = \"$\\mathbb{E}[|\\widehat{u}|^2]$\"\n",
    "xlabel = \"$t$\"\n",
    "\n",
    "plt.figure()\n",
    "plt.axhline( y=ornuhl_analyt_variance(ts,nu,alpha), color='k', linestyle='dashed' )\n",
    "plt.plot(ts, ys_var, color='blue')\n",
    "plt.title(title)\n",
    "plt.xlabel(xlabel)\n",
    "plt.ylabel(ylabel)\n",
    "plt.show()"
   ]
  },
  {
   "cell_type": "code",
   "execution_count": 18,
   "id": "b6748382",
   "metadata": {},
   "outputs": [
    {
     "data": {
      "image/png": "[encoded data removed]",
      "text/plain": [
       "<Figure size 432x288 with 1 Axes>"
      ]
     },
     "metadata": {
      "needs_background": "light"
     },
     "output_type": "display_data"
    }
   ],
   "source": [
    "title  = \"\"\n",
    "ylabel = \"$\\mathbb{E}[|u|^2]$\"\n",
    "xlabel = \"t\"\n",
    "\n",
    "plt.figure()\n",
    "plt.axhline( y=ornuhl_analyt_variance(ts,nu,alpha), color='k', linestyle='dashed' )\n",
    "plt.plot(ts, N*yr_var, color='blue')\n",
    "plt.title(title)\n",
    "plt.xlabel(xlabel)\n",
    "plt.ylabel(ylabel)\n",
    "plt.show()"
   ]
  },
  {
   "cell_type": "code",
   "execution_count": null,
   "id": "5d605114",
   "metadata": {},
   "outputs": [],
   "source": []
  }
 ],
 "metadata": {
  "kernelspec": {
   "display_name": "Python 3 (ipykernel)",
   "language": "python",
   "name": "python3"
  },
  "language_info": {
   "codemirror_mode": {
    "name": "ipython",
    "version": 3
   },
   "file_extension": ".py",
   "mimetype": "text/x-python",
   "name": "python",
   "nbconvert_exporter": "python",
   "pygments_lexer": "ipython3",
   "version": "3.8.12"
  }
 },
 "nbformat": 4,
 "nbformat_minor": 5
}
